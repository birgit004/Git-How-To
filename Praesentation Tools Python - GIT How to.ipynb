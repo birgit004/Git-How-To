{
 "cells": [
  {
   "cell_type": "markdown",
   "metadata": {},
   "source": [
    "# Jupyter Notebook"
   ]
  },
  {
   "cell_type": "markdown",
   "metadata": {},
   "source": [
    "## Installation: https://jupyter.org/install"
   ]
  },
  {
   "cell_type": "markdown",
   "metadata": {},
   "source": [
    "# Python"
   ]
  },
  {
   "cell_type": "markdown",
   "metadata": {},
   "source": [
    "## Installation: https://www.python.org/downloads/"
   ]
  },
  {
   "cell_type": "markdown",
   "metadata": {},
   "source": [
    "# GitHub"
   ]
  },
  {
   "cell_type": "markdown",
   "metadata": {},
   "source": [
    "### GitHub ist ein Onlinedienst, der Software-Entwicklungsprojekte auf seinen Servern bereitstellt."
   ]
  },
  {
   "cell_type": "markdown",
   "metadata": {},
   "source": [
    "# Git"
   ]
  },
  {
   "cell_type": "markdown",
   "metadata": {},
   "source": [
    "### Git ist eine freie Software zur verteilten Versionsverwaltung von Dateien"
   ]
  },
  {
   "cell_type": "code",
   "execution_count": 1,
   "metadata": {},
   "outputs": [],
   "source": [
    "from IPython.display import Image\n",
    "from IPython.core.display import HTML\n",
    "PATH = \"https://github.com/birgit004/Git-How-To/blob/master/Images/\"\n",
    "URL_END = \"?raw=true\""
   ]
  },
  {
   "cell_type": "markdown",
   "metadata": {},
   "source": [
    "## I. Download und Installation\n",
    "### 1. Download"
   ]
  },
  {
   "cell_type": "code",
   "execution_count": 2,
   "metadata": {},
   "outputs": [
    {
     "data": {
      "text/html": [
       "<img src=\"https://github.com/birgit004/Git-How-To/blob/master/Images/pic%201%20download.png?raw=true\" width=\"900\" height=\"700\"/>"
      ],
      "text/plain": [
       "<IPython.core.display.Image object>"
      ]
     },
     "execution_count": 2,
     "metadata": {},
     "output_type": "execute_result"
    }
   ],
   "source": [
    "Image(url = PATH + \"pic%201%20download.png\" + URL_END, width=900, height=700)"
   ]
  },
  {
   "cell_type": "markdown",
   "metadata": {},
   "source": [
    "### 2.\tHier Lieblingstexteditor auswählen, der öffnet sich dann, wenn es einen Merge Konflikt oder Ähnliches gibt und man den beheben muss. Notepad++ ist einfacher zu bedienen als Vim."
   ]
  },
  {
   "cell_type": "code",
   "execution_count": 12,
   "metadata": {},
   "outputs": [
    {
     "data": {
      "text/html": [
       "<img src=\"https://github.com/birgit004/mein-neues-projekt/blob/master/Images/pic%202%20choose%20editor.png?raw=true\" width=\"900\" height=\"700\"/>"
      ],
      "text/plain": [
       "<IPython.core.display.Image object>"
      ]
     },
     "execution_count": 12,
     "metadata": {},
     "output_type": "execute_result"
    }
   ],
   "source": [
    "Image(url = PATH + \"pic%202%20choose%20editor.png\" + URL_END, width=900, height=700)"
   ]
  },
  {
   "cell_type": "markdown",
   "metadata": {},
   "source": [
    "### 3.\tBei Windows: Bei allen dreien installiert man die Git Bash, aber die Entscheidung beeinflusst, ob man Git Befehle in der Command Prompt (Cmd, „Windows Terminal“) eingeben kann und ob man die Befehle in der Cmd abändert."
   ]
  },
  {
   "cell_type": "code",
   "execution_count": 13,
   "metadata": {},
   "outputs": [
    {
     "data": {
      "text/html": [
       "<img src=\"https://github.com/birgit004/mein-neues-projekt/blob/master/Images/pic%203%20install%20git%20bash.png?raw=true\" width=\"900\" height=\"700\"/>"
      ],
      "text/plain": [
       "<IPython.core.display.Image object>"
      ]
     },
     "execution_count": 13,
     "metadata": {},
     "output_type": "execute_result"
    }
   ],
   "source": [
    "Image(url = PATH + \"pic%203%20install%20git%20bash.png\" + URL_END, width=900, height=700)"
   ]
  },
  {
   "cell_type": "markdown",
   "metadata": {},
   "source": [
    "### 4.\tDie weiteren Fenster kann man auch einfach auf default lassen."
   ]
  },
  {
   "cell_type": "markdown",
   "metadata": {},
   "source": [
    "### 5.\tNun hat man einen Terminal, in dem man etliche Unix-Befehle verwenden kann und in dem man die Git-Befehle eingibt."
   ]
  },
  {
   "cell_type": "code",
   "execution_count": 14,
   "metadata": {},
   "outputs": [
    {
     "data": {
      "text/html": [
       "<img src=\"https://github.com/birgit004/mein-neues-projekt/blob/master/Images/pic%204%20git%20bash.png?raw=true\" width=\"900\" height=\"700\"/>"
      ],
      "text/plain": [
       "<IPython.core.display.Image object>"
      ]
     },
     "execution_count": 14,
     "metadata": {},
     "output_type": "execute_result"
    }
   ],
   "source": [
    "Image(url = PATH + \"pic%204%20git%20bash.png\" + URL_END, width=900, height=700)"
   ]
  },
  {
   "cell_type": "markdown",
   "metadata": {},
   "source": [
    "## II.\tGit anwenden"
   ]
  },
  {
   "cell_type": "markdown",
   "metadata": {},
   "source": [
    "### 1.  Schauen, ob man Git korrekt installiert hat und verwenden kann: "
   ]
  },
  {
   "cell_type": "markdown",
   "metadata": {},
   "source": [
    "#### $ git --version "
   ]
  },
  {
   "cell_type": "code",
   "execution_count": 15,
   "metadata": {},
   "outputs": [
    {
     "data": {
      "text/html": [
       "<img src=\"https://github.com/birgit004/mein-neues-projekt/blob/master/Images/pic%205%20git%20version.png?raw=true\" width=\"900\" height=\"700\"/>"
      ],
      "text/plain": [
       "<IPython.core.display.Image object>"
      ]
     },
     "execution_count": 15,
     "metadata": {},
     "output_type": "execute_result"
    }
   ],
   "source": [
    "Image(url = PATH + \"pic%205%20git%20version.png\" + URL_END, width=900, height=700)"
   ]
  },
  {
   "cell_type": "markdown",
   "metadata": {},
   "source": [
    "### 2.\tKonfiguration von Git"
   ]
  },
  {
   "cell_type": "markdown",
   "metadata": {},
   "source": [
    "#### $ git config --global user.email ‘xyz@fhwn.ac.at’"
   ]
  },
  {
   "cell_type": "markdown",
   "metadata": {},
   "source": [
    "#### $ git config --global user.name ‘Birgit Blauensteiner’ "
   ]
  },
  {
   "cell_type": "code",
   "execution_count": 16,
   "metadata": {},
   "outputs": [
    {
     "data": {
      "text/html": [
       "<img src=\"https://github.com/birgit004/mein-neues-projekt/blob/master/Images/pic%206%20konfiguration%20von%20git.png?raw=true\" width=\"900\" height=\"700\"/>"
      ],
      "text/plain": [
       "<IPython.core.display.Image object>"
      ]
     },
     "execution_count": 16,
     "metadata": {},
     "output_type": "execute_result"
    }
   ],
   "source": [
    "Image(url = PATH + \"pic%206%20konfiguration%20von%20git.png\" + URL_END, width=900, height=700)"
   ]
  },
  {
   "cell_type": "markdown",
   "metadata": {},
   "source": [
    "### 3.\tprint working directory – sagt mir, wo ich bin:"
   ]
  },
  {
   "cell_type": "markdown",
   "metadata": {},
   "source": [
    "#### $ pwd "
   ]
  },
  {
   "cell_type": "markdown",
   "metadata": {},
   "source": [
    "### 4.\tIn das Verzeichnis wechseln, in dem man das neue Projekt anlegen will. Einfachste Lösung ist, in den Ordner zu gehen und Git-Bash dort erst öffnen:"
   ]
  },
  {
   "cell_type": "code",
   "execution_count": 17,
   "metadata": {},
   "outputs": [
    {
     "data": {
      "text/html": [
       "<img src=\"https://github.com/birgit004/mein-neues-projekt/blob/master/Images/pic%207%20git%20bash%20oeffnen.png?raw=true\" width=\"900\" height=\"700\"/>"
      ],
      "text/plain": [
       "<IPython.core.display.Image object>"
      ]
     },
     "execution_count": 17,
     "metadata": {},
     "output_type": "execute_result"
    }
   ],
   "source": [
    "Image(url = PATH + \"pic%207%20git%20bash%20oeffnen.png\" + URL_END, width=900, height=700)"
   ]
  },
  {
   "cell_type": "markdown",
   "metadata": {},
   "source": [
    "### 5.\tNeues Verzeichnis erstellen mit dem Programm mkdir (steht für make directory):"
   ]
  },
  {
   "cell_type": "markdown",
   "metadata": {},
   "source": [
    "#### $ mkdir mein-neues-projekt"
   ]
  },
  {
   "cell_type": "markdown",
   "metadata": {},
   "source": [
    "### 6.\tIn das neue Verzeichnis wechseln mit dem Programm cd (steht für change directory):"
   ]
  },
  {
   "cell_type": "markdown",
   "metadata": {},
   "source": [
    "#### $  cd mein-neues-projekt"
   ]
  },
  {
   "cell_type": "markdown",
   "metadata": {},
   "source": [
    "### 7.\tVerzeichnisinhalt ansehen mit dem Programm ls (steht für list). Die Optionen l und a geben zusätzliche Informationen aus (Dateiattribute und versteckte Dateien):"
   ]
  },
  {
   "cell_type": "markdown",
   "metadata": {},
   "source": [
    "#### $ ls -la "
   ]
  },
  {
   "cell_type": "code",
   "execution_count": 18,
   "metadata": {},
   "outputs": [
    {
     "data": {
      "text/html": [
       "<img src=\"https://github.com/birgit004/mein-neues-projekt/blob/master/Images/pic%208%20neues%20verzeichnis.png?raw=true\" width=\"900\" height=\"700\"/>"
      ],
      "text/plain": [
       "<IPython.core.display.Image object>"
      ]
     },
     "execution_count": 18,
     "metadata": {},
     "output_type": "execute_result"
    }
   ],
   "source": [
    "Image(url = PATH + \"pic%208%20neues%20verzeichnis.png\" + URL_END, width=900, height=700)"
   ]
  },
  {
   "cell_type": "markdown",
   "metadata": {},
   "source": [
    "### 8.\tGit Repository erstellen"
   ]
  },
  {
   "cell_type": "markdown",
   "metadata": {},
   "source": [
    "#### $ git init "
   ]
  },
  {
   "cell_type": "code",
   "execution_count": 19,
   "metadata": {},
   "outputs": [
    {
     "data": {
      "text/html": [
       "<img src=\"https://github.com/birgit004/mein-neues-projekt/blob/master/Images/pic%209%20neues%20repository%20erstellen.png?raw=true\" width=\"900\" height=\"700\"/>"
      ],
      "text/plain": [
       "<IPython.core.display.Image object>"
      ]
     },
     "execution_count": 19,
     "metadata": {},
     "output_type": "execute_result"
    }
   ],
   "source": [
    "Image(url = PATH + \"pic%209%20neues%20repository%20erstellen.png\" + URL_END, width=900, height=700)"
   ]
  },
  {
   "cell_type": "markdown",
   "metadata": {},
   "source": [
    "### 9.\tSchauen, ob die Git Dateien, die von Git erstellt werden, wenn man ein Git Repository erstellt, da sind: "
   ]
  },
  {
   "cell_type": "markdown",
   "metadata": {},
   "source": [
    "#### $ ls -la "
   ]
  },
  {
   "cell_type": "code",
   "execution_count": 20,
   "metadata": {},
   "outputs": [
    {
     "data": {
      "text/html": [
       "<img src=\"https://github.com/birgit004/mein-neues-projekt/blob/master/Images/pic%2010%20ls.png?raw=true\" width=\"900\" height=\"700\"/>"
      ],
      "text/plain": [
       "<IPython.core.display.Image object>"
      ]
     },
     "execution_count": 20,
     "metadata": {},
     "output_type": "execute_result"
    }
   ],
   "source": [
    "Image(url = PATH + \"pic%2010%20ls.png\" + URL_END, width=900, height=700)"
   ]
  },
  {
   "cell_type": "markdown",
   "metadata": {},
   "source": [
    "### 10.\tEine Textdatei erstellen namens file.txt mit dem Inhalt „test123“, optional kann man nachsehen, ob die Datei da ist mit dem Programm ls und was drinnen steht mit dem Programm cat. Wenn man eine Datei laden will (keine .txt, zB .pdf oder .ipynb), dann bei V. 1 und 2 nachsehen und weitermachen."
   ]
  },
  {
   "cell_type": "markdown",
   "metadata": {},
   "source": [
    "#### $ echo test123 > file.txt"
   ]
  },
  {
   "cell_type": "markdown",
   "metadata": {},
   "source": [
    "#### $ cat file.txt"
   ]
  },
  {
   "cell_type": "code",
   "execution_count": 21,
   "metadata": {},
   "outputs": [
    {
     "data": {
      "text/html": [
       "<img src=\"https://github.com/birgit004/mein-neues-projekt/blob/master/Images/pic%2011%20datei%20erstellen.png?raw=true\" width=\"900\" height=\"700\"/>"
      ],
      "text/plain": [
       "<IPython.core.display.Image object>"
      ]
     },
     "execution_count": 21,
     "metadata": {},
     "output_type": "execute_result"
    }
   ],
   "source": [
    "Image(url = PATH + \"pic%2011%20datei%20erstellen.png\" + URL_END, width=900, height=700)"
   ]
  },
  {
   "cell_type": "markdown",
   "metadata": {},
   "source": [
    "### 11.\tStatus des Git Repositories anschauen mit dem Programm git"
   ]
  },
  {
   "cell_type": "markdown",
   "metadata": {},
   "source": [
    "#### $ git status"
   ]
  },
  {
   "cell_type": "code",
   "execution_count": 22,
   "metadata": {},
   "outputs": [
    {
     "data": {
      "text/html": [
       "<img src=\"https://github.com/birgit004/mein-neues-projekt/blob/master/Images/pic%2012%20git%20status.png?raw=true\" width=\"900\" height=\"700\"/>"
      ],
      "text/plain": [
       "<IPython.core.display.Image object>"
      ]
     },
     "execution_count": 22,
     "metadata": {},
     "output_type": "execute_result"
    }
   ],
   "source": [
    "Image(url = PATH + \"pic%2012%20git%20status.png\" + URL_END, width=900, height=700)"
   ]
  },
  {
   "cell_type": "markdown",
   "metadata": {},
   "source": [
    "### 12.\tAlle unvorgemerkten Dateien zum Commit vormerken. Der . steht für alle Dateien im aktuellen Verzeichnis und darunter. Es werden alle Dateien und alle Dateien in allen Subverzeichnissen vorgemerkt. Mit git status sieht man, dass die Datei jetzt vorgemerkt ist, aber noch nicht committed."
   ]
  },
  {
   "cell_type": "markdown",
   "metadata": {},
   "source": [
    "#### $ git add ."
   ]
  },
  {
   "cell_type": "markdown",
   "metadata": {},
   "source": [
    "#### $ git status"
   ]
  },
  {
   "cell_type": "code",
   "execution_count": 23,
   "metadata": {},
   "outputs": [
    {
     "data": {
      "text/html": [
       "<img src=\"https://github.com/birgit004/mein-neues-projekt/blob/master/Images/pic%2013%20git%20add.png?raw=true\" width=\"900\" height=\"700\"/>"
      ],
      "text/plain": [
       "<IPython.core.display.Image object>"
      ]
     },
     "execution_count": 23,
     "metadata": {},
     "output_type": "execute_result"
    }
   ],
   "source": [
    "Image(url = PATH + \"pic%2013%20git%20add.png\" + URL_END, width=900, height=700)"
   ]
  },
  {
   "cell_type": "markdown",
   "metadata": {},
   "source": [
    "### 13.\tVorgemerkte Änderungen ins Git Repository committen. Optional: Mit git status überprüfen, ob alles committed wurde. Mit git log kann man sich die Zusammenfassung aller commits anschauen. Um log zu schließen, q drücken."
   ]
  },
  {
   "cell_type": "markdown",
   "metadata": {},
   "source": [
    "#### $ git commit -m ’mein commit’"
   ]
  },
  {
   "cell_type": "markdown",
   "metadata": {},
   "source": [
    "#### $ git status"
   ]
  },
  {
   "cell_type": "markdown",
   "metadata": {},
   "source": [
    "#### $ git log"
   ]
  },
  {
   "cell_type": "markdown",
   "metadata": {},
   "source": [
    "#### q"
   ]
  },
  {
   "cell_type": "code",
   "execution_count": 24,
   "metadata": {},
   "outputs": [
    {
     "data": {
      "text/html": [
       "<img src=\"https://github.com/birgit004/mein-neues-projekt/blob/master/Images/pic%2014%20git%20commit.png?raw=true\" width=\"900\" height=\"700\"/>"
      ],
      "text/plain": [
       "<IPython.core.display.Image object>"
      ]
     },
     "execution_count": 24,
     "metadata": {},
     "output_type": "execute_result"
    }
   ],
   "source": [
    "Image(url = PATH + \"pic%2014%20git%20commit.png\" + URL_END, width=900, height=700)"
   ]
  },
  {
   "cell_type": "markdown",
   "metadata": {},
   "source": [
    "## III.\tBei Github anmelden und leeres Repository mit Default Einstellungen erstellen"
   ]
  },
  {
   "cell_type": "markdown",
   "metadata": {},
   "source": [
    "### 1. Account erstellen, oben rechts auf Your repositories klicken und dann in der Mitte auf New"
   ]
  },
  {
   "cell_type": "code",
   "execution_count": 25,
   "metadata": {},
   "outputs": [
    {
     "data": {
      "text/html": [
       "<img src=\"https://github.com/birgit004/mein-neues-projekt/blob/master/Images/pic%2015%20auf%20github%20repo%20erstellen.png?raw=true\" width=\"900\" height=\"700\"/>"
      ],
      "text/plain": [
       "<IPython.core.display.Image object>"
      ]
     },
     "execution_count": 25,
     "metadata": {},
     "output_type": "execute_result"
    }
   ],
   "source": [
    "Image(url = PATH + \"pic%2015%20auf%20github%20repo%20erstellen.png\" + URL_END, width=900, height=700)"
   ]
  },
  {
   "cell_type": "markdown",
   "metadata": {},
   "source": [
    "### 2.\tRepository erstellen mit den default Einstellungen und einem selbst gewählten Namen:"
   ]
  },
  {
   "cell_type": "code",
   "execution_count": 26,
   "metadata": {},
   "outputs": [
    {
     "data": {
      "text/html": [
       "<img src=\"https://github.com/birgit004/mein-neues-projekt/blob/master/Images/pic%2016%20create%20repo.png?raw=true\" width=\"900\" height=\"700\"/>"
      ],
      "text/plain": [
       "<IPython.core.display.Image object>"
      ]
     },
     "execution_count": 26,
     "metadata": {},
     "output_type": "execute_result"
    }
   ],
   "source": [
    "Image(url = PATH + \"pic%2016%20create%20repo.png\" + URL_END, width=900, height=700)"
   ]
  },
  {
   "cell_type": "markdown",
   "metadata": {},
   "source": [
    "### 3.\tGit Repo erfolgreich erstellt:"
   ]
  },
  {
   "cell_type": "code",
   "execution_count": 27,
   "metadata": {},
   "outputs": [
    {
     "data": {
      "text/html": [
       "<img src=\"https://github.com/birgit004/mein-neues-projekt/blob/master/Images/pic%2017%20repo%20created.png?raw=true\" width=\"900\" height=\"700\"/>"
      ],
      "text/plain": [
       "<IPython.core.display.Image object>"
      ]
     },
     "execution_count": 27,
     "metadata": {},
     "output_type": "execute_result"
    }
   ],
   "source": [
    "Image(url = PATH + \"pic%2017%20repo%20created.png\" + URL_END, width=900, height=700)"
   ]
  },
  {
   "cell_type": "markdown",
   "metadata": {},
   "source": [
    "## IV.\tLokales Git Repository mit dem remote Repository (=Github) verbinden:"
   ]
  },
  {
   "cell_type": "markdown",
   "metadata": {},
   "source": [
    "### 1. Remote hinzufügen"
   ]
  },
  {
   "cell_type": "markdown",
   "metadata": {},
   "source": [
    "#### $ git remote add origin https://github.com/birgit004/mein-neues-projekt.git"
   ]
  },
  {
   "cell_type": "markdown",
   "metadata": {},
   "source": [
    "### 2.\tÜberprüfen, ob erfolgreich hinzugefügt:"
   ]
  },
  {
   "cell_type": "markdown",
   "metadata": {},
   "source": [
    "#### $ git remote -v"
   ]
  },
  {
   "cell_type": "code",
   "execution_count": 28,
   "metadata": {},
   "outputs": [
    {
     "data": {
      "text/html": [
       "<img src=\"https://github.com/birgit004/mein-neues-projekt/blob/master/Images/pic%2018%20git%20verbinden.png?raw=true\" width=\"900\" height=\"700\"/>"
      ],
      "text/plain": [
       "<IPython.core.display.Image object>"
      ]
     },
     "execution_count": 28,
     "metadata": {},
     "output_type": "execute_result"
    }
   ],
   "source": [
    "Image(url = PATH + \"pic%2018%20git%20verbinden.png\" + URL_END, width=900, height=700)"
   ]
  },
  {
   "cell_type": "markdown",
   "metadata": {},
   "source": [
    "### 3.\tÄnderungen vom lokalen Repository in das remote Repository auf Github pushen. Es dürfen nur Berechtigte auf das remote Repository pushen, deshalb werden die Zugangsdaten abgefragt. Zugangsdaten eingeben"
   ]
  },
  {
   "cell_type": "markdown",
   "metadata": {},
   "source": [
    "#### $ git push origin master"
   ]
  },
  {
   "cell_type": "code",
   "execution_count": 29,
   "metadata": {},
   "outputs": [
    {
     "data": {
      "text/html": [
       "<img src=\"https://github.com/birgit004/mein-neues-projekt/blob/master/Images/pic%2019%20push.png?raw=true\" width=\"900\" height=\"700\"/>"
      ],
      "text/plain": [
       "<IPython.core.display.Image object>"
      ]
     },
     "execution_count": 29,
     "metadata": {},
     "output_type": "execute_result"
    }
   ],
   "source": [
    "Image(url = PATH + \"pic%2019%20push.png\" + URL_END, width=900, height=700)"
   ]
  },
  {
   "cell_type": "markdown",
   "metadata": {},
   "source": [
    "### 4.\tNach dem Push kann auf dem Github Repository die gepushte Datei und den gepushten Commit sehen"
   ]
  },
  {
   "cell_type": "code",
   "execution_count": 30,
   "metadata": {},
   "outputs": [
    {
     "data": {
      "text/html": [
       "<img src=\"https://github.com/birgit004/mein-neues-projekt/blob/master/Images/pic%2020%20push%20sehen.png?raw=true\" width=\"900\" height=\"700\"/>"
      ],
      "text/plain": [
       "<IPython.core.display.Image object>"
      ]
     },
     "execution_count": 30,
     "metadata": {},
     "output_type": "execute_result"
    }
   ],
   "source": [
    "Image(url = PATH + \"pic%2020%20push%20sehen.png\" + URL_END, width=900, height=700)"
   ]
  },
  {
   "cell_type": "markdown",
   "metadata": {},
   "source": [
    "### 5.\tDie Datei bearbeiten und mittendrin was einfügen. Wir imitieren den Fall, dass ein_e andere Developer_in jetzt unsere Datei bearbeitet und mittendrin irgendwas einfügt oder unseren Code ausbessert."
   ]
  },
  {
   "cell_type": "code",
   "execution_count": 31,
   "metadata": {},
   "outputs": [
    {
     "data": {
      "text/html": [
       "<img src=\"https://github.com/birgit004/mein-neues-projekt/blob/master/Images/pic%2021%20datei%20%C3%A4ndern.png?raw=true\" width=\"900\" height=\"700\"/>"
      ],
      "text/plain": [
       "<IPython.core.display.Image object>"
      ]
     },
     "execution_count": 31,
     "metadata": {},
     "output_type": "execute_result"
    }
   ],
   "source": [
    "Image(url = PATH + \"pic%2021%20datei%20%C3%A4ndern.png\" + URL_END, width=900, height=700)"
   ]
  },
  {
   "cell_type": "markdown",
   "metadata": {},
   "source": [
    "### 6.\tRunterscrollen und Changes committen:"
   ]
  },
  {
   "cell_type": "code",
   "execution_count": 32,
   "metadata": {},
   "outputs": [
    {
     "data": {
      "text/html": [
       "<img src=\"https://github.com/birgit004/mein-neues-projekt/blob/master/Images/pic%2022%20changes%20committen.png?raw=true\" width=\"900\" height=\"700\"/>"
      ],
      "text/plain": [
       "<IPython.core.display.Image object>"
      ]
     },
     "execution_count": 32,
     "metadata": {},
     "output_type": "execute_result"
    }
   ],
   "source": [
    "Image(url = PATH + \"pic%2022%20changes%20committen.png\" + URL_END, width=900, height=700)"
   ]
  },
  {
   "cell_type": "markdown",
   "metadata": {},
   "source": [
    "### 7.\tMit dem Programm nano oder irgendeinem anderen Texteditor den Text in unserer lokalen Datei file.txt ändern von test123 auf test__1__123. Wir imitieren damit den Fall, dass wir einen Fehler in unserem Code bemerkt haben und diesen ausgebessert haben."
   ]
  },
  {
   "cell_type": "markdown",
   "metadata": {},
   "source": [
    "#### $ nano file.txt"
   ]
  },
  {
   "cell_type": "code",
   "execution_count": 33,
   "metadata": {},
   "outputs": [
    {
     "data": {
      "text/html": [
       "<img src=\"https://github.com/birgit004/mein-neues-projekt/blob/master/Images/pic%2023%20nano%20file%20%C3%A4ndern.png?raw=true\" width=\"900\" height=\"700\"/>"
      ],
      "text/plain": [
       "<IPython.core.display.Image object>"
      ]
     },
     "execution_count": 33,
     "metadata": {},
     "output_type": "execute_result"
    }
   ],
   "source": [
    "Image(url = PATH + \"pic%2023%20nano%20file%20%C3%A4ndern.png\" + URL_END, width=900, height=700)"
   ]
  },
  {
   "cell_type": "markdown",
   "metadata": {},
   "source": [
    "### 8.\tStrg+X, dann Y, dann Enter, um zu speichern und Programm zu schließen."
   ]
  },
  {
   "cell_type": "code",
   "execution_count": 34,
   "metadata": {},
   "outputs": [
    {
     "data": {
      "text/html": [
       "<img src=\"https://github.com/birgit004/mein-neues-projekt/blob/master/Images/pic%2024%20%C3%A4nderungen%20speichern.png?raw=true\" width=\"900\" height=\"700\"/>"
      ],
      "text/plain": [
       "<IPython.core.display.Image object>"
      ]
     },
     "execution_count": 34,
     "metadata": {},
     "output_type": "execute_result"
    }
   ],
   "source": [
    "Image(url = PATH + \"pic%2024%20%C3%A4nderungen%20speichern.png\" + URL_END, width=900, height=700)"
   ]
  },
  {
   "cell_type": "markdown",
   "metadata": {},
   "source": [
    "### 9.\tAdden, committen und pushen. Der Push failed, weil am remote repository was geändert wurde. Wir müssen daher zuerst die Änderungen vom remote repository in unser lokales Repository pullen. "
   ]
  },
  {
   "cell_type": "code",
   "execution_count": 35,
   "metadata": {},
   "outputs": [
    {
     "data": {
      "text/html": [
       "<img src=\"https://github.com/birgit004/mein-neues-projekt/blob/master/Images/pic%2025%20push%20failed.png?raw=true\" width=\"900\" height=\"700\"/>"
      ],
      "text/plain": [
       "<IPython.core.display.Image object>"
      ]
     },
     "execution_count": 35,
     "metadata": {},
     "output_type": "execute_result"
    }
   ],
   "source": [
    "Image(url = PATH + \"pic%2025%20push%20failed.png\" + URL_END, width=900, height=700)"
   ]
  },
  {
   "cell_type": "markdown",
   "metadata": {},
   "source": [
    "### 10.\tDie Änderungen vom remote repository ins lokale repository pullen."
   ]
  },
  {
   "cell_type": "markdown",
   "metadata": {},
   "source": [
    "#### $ git pull origin master"
   ]
  },
  {
   "cell_type": "code",
   "execution_count": 36,
   "metadata": {
    "scrolled": true
   },
   "outputs": [
    {
     "data": {
      "text/html": [
       "<img src=\"https://github.com/birgit004/mein-neues-projekt/blob/master/Images/pic%2026%20%C3%A4nderungen%20pullen.png?raw=true\" width=\"900\" height=\"700\"/>"
      ],
      "text/plain": [
       "<IPython.core.display.Image object>"
      ]
     },
     "execution_count": 36,
     "metadata": {},
     "output_type": "execute_result"
    }
   ],
   "source": [
    "Image(url = PATH + \"pic%2026%20%C3%A4nderungen%20pullen.png\" + URL_END, width=900, height=700)"
   ]
  },
  {
   "cell_type": "markdown",
   "metadata": {},
   "source": [
    "### 11.\tDen Status vom lokalen Git Repository anzeigen mit git status:"
   ]
  },
  {
   "cell_type": "code",
   "execution_count": 37,
   "metadata": {},
   "outputs": [
    {
     "data": {
      "text/html": [
       "<img src=\"https://github.com/birgit004/mein-neues-projekt/blob/master/Images/pic%2027%20status%20unmerged%20paths.png?raw=true\" width=\"900\" height=\"700\"/>"
      ],
      "text/plain": [
       "<IPython.core.display.Image object>"
      ]
     },
     "execution_count": 37,
     "metadata": {},
     "output_type": "execute_result"
    }
   ],
   "source": [
    "Image(url = PATH + \"pic%2027%20status%20unmerged%20paths.png\" + URL_END, width=900, height=700)"
   ]
  },
  {
   "cell_type": "markdown",
   "metadata": {},
   "source": [
    "### 12.\tFile.txt mit irgendeinem Texteditor öffnen, zB mit dem Programm nano. Die zwei widersprüchlichen Versionen tauchen auf."
   ]
  },
  {
   "cell_type": "markdown",
   "metadata": {},
   "source": [
    "#### $ nano file.txt"
   ]
  },
  {
   "cell_type": "code",
   "execution_count": 38,
   "metadata": {},
   "outputs": [
    {
     "data": {
      "text/html": [
       "<img src=\"https://github.com/birgit004/mein-neues-projekt/blob/master/Images/pic%2028%20konflikt.png?raw=true\" width=\"900\" height=\"700\"/>"
      ],
      "text/plain": [
       "<IPython.core.display.Image object>"
      ]
     },
     "execution_count": 38,
     "metadata": {},
     "output_type": "execute_result"
    }
   ],
   "source": [
    "Image(url = PATH + \"pic%2028%20konflikt.png\" + URL_END, width=900, height=700)"
   ]
  },
  {
   "cell_type": "markdown",
   "metadata": {},
   "source": [
    "### 13.\tDen Inhalt so ändern, wie man ihn haben möchte, das heißt, Teile rauslöschen oder bearbeiten. Dann Strg+X, mit Y speichern und Enter."
   ]
  },
  {
   "cell_type": "code",
   "execution_count": 39,
   "metadata": {},
   "outputs": [
    {
     "data": {
      "text/html": [
       "<img src=\"https://github.com/birgit004/mein-neues-projekt/blob/master/Images/pic%2029%20konflikt%20beheben.png?raw=true\" width=\"900\" height=\"700\"/>"
      ],
      "text/plain": [
       "<IPython.core.display.Image object>"
      ]
     },
     "execution_count": 39,
     "metadata": {},
     "output_type": "execute_result"
    }
   ],
   "source": [
    "Image(url = PATH + \"pic%2029%20konflikt%20beheben.png\" + URL_END, width=900, height=700)"
   ]
  },
  {
   "cell_type": "markdown",
   "metadata": {},
   "source": [
    "### 14.\tÄnderungen adden und committen:"
   ]
  },
  {
   "cell_type": "markdown",
   "metadata": {},
   "source": [
    "#### $ git add ."
   ]
  },
  {
   "cell_type": "markdown",
   "metadata": {},
   "source": [
    "#### $ git commit -m ‘merge Konflikte lösen‘"
   ]
  },
  {
   "cell_type": "code",
   "execution_count": 40,
   "metadata": {},
   "outputs": [
    {
     "data": {
      "text/html": [
       "<img src=\"https://github.com/birgit004/mein-neues-projekt/blob/master/Images/pic%2030%20fix%20mergen.png?raw=true\" width=\"900\" height=\"700\"/>"
      ],
      "text/plain": [
       "<IPython.core.display.Image object>"
      ]
     },
     "execution_count": 40,
     "metadata": {},
     "output_type": "execute_result"
    }
   ],
   "source": [
    "Image(url = PATH + \"pic%2030%20fix%20mergen.png\" + URL_END, width=900, height=700)"
   ]
  },
  {
   "cell_type": "markdown",
   "metadata": {},
   "source": [
    "### 15.\tDen Status ausgeben und die Historie. Um log zu schließen, q drücken."
   ]
  },
  {
   "cell_type": "markdown",
   "metadata": {},
   "source": [
    "#### $ git status"
   ]
  },
  {
   "cell_type": "markdown",
   "metadata": {},
   "source": [
    "#### $ git log"
   ]
  },
  {
   "cell_type": "markdown",
   "metadata": {},
   "source": [
    "#### q"
   ]
  },
  {
   "cell_type": "code",
   "execution_count": 41,
   "metadata": {},
   "outputs": [
    {
     "data": {
      "text/html": [
       "<img src=\"https://github.com/birgit004/mein-neues-projekt/blob/master/Images/pic%2031%20git%20log.png?raw=true\" width=\"900\" height=\"700\"/>"
      ],
      "text/plain": [
       "<IPython.core.display.Image object>"
      ]
     },
     "execution_count": 41,
     "metadata": {},
     "output_type": "execute_result"
    }
   ],
   "source": [
    "Image(url = PATH + \"pic%2031%20git%20log.png\" + URL_END, width=900, height=700)"
   ]
  },
  {
   "cell_type": "markdown",
   "metadata": {},
   "source": [
    "## V.\tUpload von Dateien von einem lokalen Git Repository"
   ]
  },
  {
   "cell_type": "markdown",
   "metadata": {},
   "source": [
    "### 1.\tVon einem lokalen Git Repository: Nachdem man ein lokales Repository erstellt hat (siehe Abschnitte II. 5, 6, 7 und 8), in den lokalen Git Ordner gehen und Datei dort einfügen bzw. Datei, die man erstellt hat, dort abspeichern."
   ]
  },
  {
   "cell_type": "markdown",
   "metadata": {},
   "source": [
    "#### einfügen:"
   ]
  },
  {
   "cell_type": "code",
   "execution_count": 42,
   "metadata": {},
   "outputs": [
    {
     "data": {
      "text/html": [
       "<img src=\"https://github.com/birgit004/mein-neues-projekt/blob/master/Images/pic%2032%20datei%20einf%C3%BCgen.png?raw=true\" width=\"900\" height=\"700\"/>"
      ],
      "text/plain": [
       "<IPython.core.display.Image object>"
      ]
     },
     "execution_count": 42,
     "metadata": {},
     "output_type": "execute_result"
    }
   ],
   "source": [
    "Image(url = PATH + \"pic%2032%20datei%20einf%C3%BCgen.png\" + URL_END, width=900, height=700)"
   ]
  },
  {
   "cell_type": "markdown",
   "metadata": {},
   "source": [
    "#### bzw. abspeichern:"
   ]
  },
  {
   "cell_type": "code",
   "execution_count": 43,
   "metadata": {},
   "outputs": [
    {
     "data": {
      "text/html": [
       "<img src=\"https://github.com/birgit004/mein-neues-projekt/blob/master/Images/pic%2033%20datei%20abspeichern.png?raw=true\" width=\"900\" height=\"700\"/>"
      ],
      "text/plain": [
       "<IPython.core.display.Image object>"
      ]
     },
     "execution_count": 43,
     "metadata": {},
     "output_type": "execute_result"
    }
   ],
   "source": [
    "Image(url = PATH + \"pic%2033%20datei%20abspeichern.png\" + URL_END, width=900, height=700)"
   ]
  },
  {
   "cell_type": "markdown",
   "metadata": {},
   "source": [
    "### 2.\tDann macht man bei II. 11, 12, 13 und III. 3 weiter, kurz zusammengefasst:"
   ]
  },
  {
   "cell_type": "markdown",
   "metadata": {},
   "source": [
    "#### $ git status"
   ]
  },
  {
   "cell_type": "markdown",
   "metadata": {},
   "source": [
    "#### $ git add."
   ]
  },
  {
   "cell_type": "markdown",
   "metadata": {},
   "source": [
    "#### $ git status"
   ]
  },
  {
   "cell_type": "markdown",
   "metadata": {},
   "source": [
    "#### $ git commit -m ’mein commit’"
   ]
  },
  {
   "cell_type": "markdown",
   "metadata": {},
   "source": [
    "#### $ git status"
   ]
  },
  {
   "cell_type": "markdown",
   "metadata": {},
   "source": [
    "#### $ git log\n",
    "#### q"
   ]
  },
  {
   "cell_type": "markdown",
   "metadata": {},
   "source": [
    "#### $ git push origin master"
   ]
  },
  {
   "cell_type": "markdown",
   "metadata": {},
   "source": [
    "### VI.\tRemote Upload auf Github Repository und Pullen ins lokale Git"
   ]
  },
  {
   "cell_type": "markdown",
   "metadata": {},
   "source": [
    "#### 1.\tAuf Github direkt uploaden"
   ]
  },
  {
   "cell_type": "code",
   "execution_count": 44,
   "metadata": {},
   "outputs": [
    {
     "data": {
      "text/html": [
       "<img src=\"https://github.com/birgit004/mein-neues-projekt/blob/master/Images/pic%2034%20github%20upload.png?raw=true\" width=\"900\" height=\"700\"/>"
      ],
      "text/plain": [
       "<IPython.core.display.Image object>"
      ]
     },
     "execution_count": 44,
     "metadata": {},
     "output_type": "execute_result"
    }
   ],
   "source": [
    "Image(url = PATH + \"pic%2034%20github%20upload.png\" + URL_END, width=900, height=700)"
   ]
  },
  {
   "cell_type": "markdown",
   "metadata": {},
   "source": [
    "### 2.\tIns lokale Git pullen: Git Bash im eigenen Verzeichnis öffnen"
   ]
  },
  {
   "cell_type": "code",
   "execution_count": 45,
   "metadata": {},
   "outputs": [
    {
     "data": {
      "text/html": [
       "<img src=\"https://github.com/birgit004/mein-neues-projekt/blob/master/Images/pic%2035%20git%20bash%20%C3%B6ffnen.png?raw=true\" width=\"900\" height=\"700\"/>"
      ],
      "text/plain": [
       "<IPython.core.display.Image object>"
      ]
     },
     "execution_count": 45,
     "metadata": {},
     "output_type": "execute_result"
    }
   ],
   "source": [
    "Image(url = PATH + \"pic%2035%20git%20bash%20%C3%B6ffnen.png\" + URL_END, width=900, height=700)"
   ]
  },
  {
   "cell_type": "markdown",
   "metadata": {},
   "source": [
    "### 3.\tPull Befehl eingeben:"
   ]
  },
  {
   "cell_type": "markdown",
   "metadata": {},
   "source": [
    "#### $ git pull origin master"
   ]
  },
  {
   "cell_type": "code",
   "execution_count": 46,
   "metadata": {},
   "outputs": [
    {
     "data": {
      "text/html": [
       "<img src=\"https://github.com/birgit004/mein-neues-projekt/blob/master/Images/pic%2036%20pull%20befehl%20eingeben.png?raw=true\" width=\"900\" height=\"700\"/>"
      ],
      "text/plain": [
       "<IPython.core.display.Image object>"
      ]
     },
     "execution_count": 46,
     "metadata": {},
     "output_type": "execute_result"
    }
   ],
   "source": [
    "Image(url = PATH + \"pic%2036%20pull%20befehl%20eingeben.png\" + URL_END, width=900, height=700)"
   ]
  },
  {
   "cell_type": "markdown",
   "metadata": {},
   "source": [
    "### 4.\tVerzeichnisinhalt ansehen"
   ]
  },
  {
   "cell_type": "markdown",
   "metadata": {},
   "source": [
    "#### $ ls -la"
   ]
  },
  {
   "cell_type": "markdown",
   "metadata": {},
   "source": [
    "## VII. Clonen"
   ]
  },
  {
   "cell_type": "markdown",
   "metadata": {},
   "source": [
    "### 1. Clonen:"
   ]
  },
  {
   "cell_type": "markdown",
   "metadata": {},
   "source": [
    "#### $ git clone *repository URL*"
   ]
  },
  {
   "cell_type": "markdown",
   "metadata": {},
   "source": [
    "# Python aus der Shell starten"
   ]
  },
  {
   "cell_type": "markdown",
   "metadata": {},
   "source": [
    "### admin> python\n",
    "### >>> print (\"Hello World)\n",
    "### Hello World\n",
    "### >>> help (\"print\")\n",
    "### >>> exit()"
   ]
  },
  {
   "cell_type": "markdown",
   "metadata": {},
   "source": [
    "# Konsole:\n",
    "Das Textfeld, auf das die Ausgabe gedruckt wird"
   ]
  },
  {
   "cell_type": "markdown",
   "metadata": {},
   "source": [
    "# Syntax:\n",
    "Die Menge der Kontrollstrukturen und Befehle, die in einer bestimmten Programmiersprache verwendet werden können. "
   ]
  },
  {
   "cell_type": "markdown",
   "metadata": {},
   "source": [
    "# Expression: \n",
    "Ausdrücke stehen für etwas wie eine Zahl, eine Zeichenfolge oder eine Instanz einer Klasse"
   ]
  }
 ],
 "metadata": {
  "kernelspec": {
   "display_name": "Python 3",
   "language": "python",
   "name": "python3"
  },
  "language_info": {
   "codemirror_mode": {
    "name": "ipython",
    "version": 3
   },
   "file_extension": ".py",
   "mimetype": "text/x-python",
   "name": "python",
   "nbconvert_exporter": "python",
   "pygments_lexer": "ipython3",
   "version": "3.6.7"
  }
 },
 "nbformat": 4,
 "nbformat_minor": 2
}
